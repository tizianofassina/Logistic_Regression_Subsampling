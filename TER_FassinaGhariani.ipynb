{
  "nbformat": 4,
  "nbformat_minor": 0,
  "metadata": {
    "colab": {
      "provenance": [],
      "gpuType": "T4"
    },
    "kernelspec": {
      "name": "python3",
      "display_name": "Python 3"
    },
    "language_info": {
      "name": "python"
    },
    "accelerator": "GPU"
  },
  "cells": [
    {
      "cell_type": "markdown",
      "source": [
        "\n",
        "\n",
        "*   Présenter la méthode rapidement :\n",
        "\n",
        "\n",
        "    1.   Présenter le problème\n",
        "    2.   Présenter la méthode\n",
        "    3.   Ecrire les résultats de consistence\n",
        "    4.   Quels sont les poids optimaux\n",
        "    5.   Ecrire l'algorithme\n",
        "\n",
        "\n",
        "*   Utilisation de scikit_learn, expliquer qu'on peut ajouter des poids\n",
        "*   Ecriture des fonctions de calcul de poids, d'échantillonnage\n",
        "*   Faire plusieurs types de données\n",
        "*   Faire des beaux graphiques de comparaison des deux calculs possibles de poids et comparaison avec l'échantillonage uniforme\n",
        "\n",
        "\n"
      ],
      "metadata": {
        "id": "we0efR2a9A5h"
      }
    },
    {
      "cell_type": "code",
      "execution_count": null,
      "metadata": {
        "id": "Bh5e4BU-8nNF"
      },
      "outputs": [],
      "source": [
        "import numpy as np\n",
        "import matplotlib.pyplot as plt\n",
        "from scipy import stats\n",
        "from sklearn.linear_model import LogisticRegression"
      ]
    },
    {
      "cell_type": "markdown",
      "source": [
        "## Maximum de vraisemblance pour la régression logistique\n",
        "\n",
        "Dans le cadre de la régression logistique, l'estimation par maximum de vraissemblance n'a pas de forme analytique fermée. Nous sommes donc amenés à estimer ce maximum par des méthodes itératives tels que la descente de gradient ou encore la méthode de Newton-Raphson (on préviligiera cette dernière puisque le calcul de la Hessienne est facile).\n",
        "\n",
        "Cette démarche fonctionne mais se révèle rapidement inefficace en grande dimension (complexité quadratique en la dimension).\n",
        "\n",
        "C'est pour pallier à ce problème que HaiYing Wang et al. ont introduit une méthode de sous-échantillonage optimale dans leur article [Optimal Subsampling for Large Sample Logistic Regression](https://ossifragus.github.io/pdfs/OSMAC_Logistic.pdf)\n"
      ],
      "metadata": {
        "id": "iLKMVlTWBddK"
      }
    },
    {
      "cell_type": "markdown",
      "source": [
        "## Méthode de sous-échantillonage optimale\n",
        "\n"
      ],
      "metadata": {
        "id": "8Cf1bq5rI0PS"
      }
    },
    {
      "cell_type": "markdown",
      "source": [
        "## Fonctions de l'algorithme"
      ],
      "metadata": {
        "id": "b1GtFfq-nDef"
      }
    },
    {
      "cell_type": "code",
      "source": [
        "def F(x):\n",
        "    return 1/(1 + np.exp(-x))"
      ],
      "metadata": {
        "id": "dWGjHOcknOzn"
      },
      "execution_count": null,
      "outputs": []
    },
    {
      "cell_type": "code",
      "source": [
        "def getSubSampleAndPis(X_sample, Y_sample, pi, r):\n",
        "    indexes = np.random.choice(X_sample.shape[0], r, p = pi)\n",
        "    return X_sample[indexes], Y_sample[indexes], pi[indexes]"
      ],
      "metadata": {
        "id": "t4jeu_g1njy9"
      },
      "execution_count": null,
      "outputs": []
    },
    {
      "cell_type": "code",
      "source": [
        "def calculate_pi_mse(x, y, beta):\n",
        "    n = x.shape[0]\n",
        "\n",
        "    p = F(x @ beta)\n",
        "    w = p * (1-p)\n",
        "\n",
        "    Mx = np.tensordot(x * (w/n)[:, np.newaxis], x, axes = (0,0))\n",
        "    Mx_inv = np.linalg.inv(Mx)\n",
        "\n",
        "    A = Mx_inv @ x.T\n",
        "\n",
        "    norms = np.sqrt(np.sum(A*A, axis = 0))\n",
        "\n",
        "    num = np.abs(p-y) * norms\n",
        "    return num / np.sum(num)"
      ],
      "metadata": {
        "id": "0wYhSlnwnbpm"
      },
      "execution_count": null,
      "outputs": []
    },
    {
      "cell_type": "code",
      "source": [
        "def calculate_pi_vc(x, y, beta):\n",
        "    p = F(x @ beta)\n",
        "    w = p * (1-p)\n",
        "    norms = np.sqrt(np.sum(x*x, axis = 1))\n",
        "    num = np.abs(p-y) * norms\n",
        "    return num / np.sum(num)"
      ],
      "metadata": {
        "id": "Pr7bAa72n209"
      },
      "execution_count": null,
      "outputs": []
    },
    {
      "cell_type": "code",
      "source": [
        "def get_beta_tilde(x, y, r0, r1, method, uniform_ssp = True):\n",
        "\n",
        "    n = x.shape[0]\n",
        "\n",
        "    if method == \"unif\":\n",
        "        x_subsample_unif, y_subsample_unif, _ = getSubSampleAndPis(x, y, np.ones(n)/n, r0+r1)\n",
        "        return LogisticRegression(fit_intercept = False).fit(x_subsample_unif, y_subsample_unif).coef_[0]\n",
        "\n",
        "    elif method in [\"mse\", \"vc\"]:\n",
        "        if uniform_ssp:\n",
        "            x_subsample_0, y_subsample_0, _ = getSubSampleAndPis(x, y, np.ones(n)/n, r0)\n",
        "            b_tilde_0 = LogisticRegression(fit_intercept = False).fit(x_subsample_0, y_subsample_0).coef_[0]\n",
        "        else:\n",
        "            number_ones = y.sum()\n",
        "            ssp = (y==0)/(2*(n-number_ones)) + (y==1)/(2*number_ones)\n",
        "            x_subsample_0, y_subsample_0, pi_subsample_0 = getSubSampleAndPis(x, y, ssp, r0)\n",
        "            b_tilde_0 = LogisticRegression(fit_intercept = False).fit(x_subsample_0, y_subsample_0, 1 / pi_subsample_0).coef_[0]\n",
        "\n",
        "\n",
        "        if method == \"mse\":\n",
        "            pi_tilde = calculate_pi_mse(x, y, b_tilde_0)\n",
        "        else:\n",
        "            pi_tilde = calculate_pi_vc(x, y, b_tilde_0)\n",
        "\n",
        "        x_subsample_tilde, y_subsample_tilde, pi_subsample_tilde = getSubSampleAndPis(x, y, pi_tilde, r1)\n",
        "\n",
        "        return LogisticRegression(fit_intercept = False).fit(x_subsample_tilde, y_subsample_tilde, 1 / pi_subsample_tilde).coef_[0]\n",
        "\n",
        "    else:\n",
        "        raise Exception(f\"Unexpected method name : '{method}'\")\n"
      ],
      "metadata": {
        "id": "GxgmB0nBn9sB"
      },
      "execution_count": null,
      "outputs": []
    },
    {
      "cell_type": "code",
      "source": [
        "def plot_consistency(x_sample, y_sample, uniform_ssp= True):\n",
        "    norms_unif = []\n",
        "    norms_vc = []\n",
        "    norms_mse = []\n",
        "\n",
        "    Ms = np.linspace(100, n, 100).astype(int)\n",
        "\n",
        "    for m in Ms:\n",
        "\n",
        "        r_0 = np.sqrt(m).astype(int)\n",
        "\n",
        "        r = m - r_0\n",
        "\n",
        "        hat_beta = LogisticRegression(fit_intercept = False).fit(x_sample[:m], y_sample[:m]).coef_[0]\n",
        "\n",
        "        beta = get_beta_tilde(x_sample[:m], y_sample[:m], r_0, r, \"unif\")\n",
        "        norms_unif.append(np.linalg.norm(beta - hat_beta))\n",
        "\n",
        "        beta = get_beta_tilde(x_sample[:m], y_sample[:m], r_0, r, \"vc\", uniform_ssp)\n",
        "        norms_vc.append(np.linalg.norm(beta - hat_beta))\n",
        "\n",
        "        beta = get_beta_tilde(x_sample[:m], y_sample[:m], r_0, r, \"mse\", uniform_ssp)\n",
        "        norms_mse.append(np.linalg.norm(beta - hat_beta))\n",
        "\n",
        "\n",
        "    plt.plot(Ms, norms_vc, label = fr\" $\\pi_i$ vc\")\n",
        "    plt.plot(Ms, norms_mse, label = fr\" $\\pi_i$ mse\")\n",
        "    plt.plot(Ms, norms_unif, label = fr\" $\\pi_i$ unif\")\n",
        "    plt.legend();"
      ],
      "metadata": {
        "id": "5M1jcSlPFIR1"
      },
      "execution_count": null,
      "outputs": []
    },
    {
      "cell_type": "code",
      "source": [
        "def plot_normalite(x_sample, y_sample, uniform_ssp = True):\n",
        "    beta_tildes = []\n",
        "    r0 = 200\n",
        "    r = 8000\n",
        "    hat_beta = LogisticRegression(fit_intercept = False).fit(x_sample, y_sample).coef_[0]\n",
        "    pi = calculate_pi_vc(x_sample, y_sample, hat_beta)\n",
        "    y_F = (y_sample - F(x_sample@hat_beta))**2 / (pi*((len(x_sample)**2)*r))\n",
        "    Vc =  np.tensordot(x_sample * y_F[:, np.newaxis], x_sample, axes = (0,0))\n",
        "\n",
        "    f = F(x_sample@hat_beta)*(1-F(x_sample@hat_beta))\n",
        "    H = - np.tensordot(x_sample * f[:, np.newaxis], x_sample, axes = (0,0))*(1/len(x_sample))\n",
        "    H_1 = np.linalg.inv(H)\n",
        "    V = H_1 @ Vc @ H\n",
        "    for i in range(1000):\n",
        "        tilde_beta = get_beta_tilde(x_sample, y_sample, r0, r, \"vc\", uniform_ssp = True)\n",
        "        beta_tildes.append(tilde_beta.copy())\n",
        "    aplotter = linalg.sqrtm(H@np.linalg.inv(Vc)@H_1)@((np.array(beta_tildes) - hat_beta).T)\n",
        "    xx = np.linspace(-4,4,1000)\n",
        "    fig, axs = plt.subplots(nrows =(d+1)//3 +1*(((d+1)%3)!=0), ncols = 3, figsize = (20,8), sharex = True, sharey = True)\n",
        "    axs[0][0].set_xlim(-4,4)\n",
        "    for i in range(d+1):\n",
        "        axs[i//3][i%3].hist(aplotter[i], density=True, bins =\"auto\", label = fr\"Histogram of $\\tilde{{\\beta}}_{i}$\")\n",
        "        axs[i//3][i%3].plot(xx, stats.norm.pdf(xx), label = fr\"Density of $\\mathcal{{N}}(0,1)$\")\n",
        "        axs[i//3][i%3].legend();\n",
        "    fig.suptitle(fr\"Check for asymptotic normality of correctly rescaled $\\tilde{{\\beta}} - \\hat{{\\beta}}$\")\n",
        "\n"
      ],
      "metadata": {
        "id": "EAOVc6lxVVvV",
        "colab": {
          "base_uri": "https://localhost:8080/",
          "height": 108
        },
        "outputId": "e48c0652-b33d-4b09-b01e-f41688f2d1a3"
      },
      "execution_count": null,
      "outputs": [
        {
          "output_type": "error",
          "ename": "SyntaxError",
          "evalue": "unmatched ')' (<ipython-input-9-8e5867b4ff5b>, line 7)",
          "traceback": [
            "\u001b[0;36m  File \u001b[0;32m\"<ipython-input-9-8e5867b4ff5b>\"\u001b[0;36m, line \u001b[0;32m7\u001b[0m\n\u001b[0;31m    y_F = y_sample - F(x_sample@hat_beta) / pi*((len(x_sample)**2)*r1))\u001b[0m\n\u001b[0m                                                                      ^\u001b[0m\n\u001b[0;31mSyntaxError\u001b[0m\u001b[0;31m:\u001b[0m unmatched ')'\n"
          ]
        }
      ]
    },
    {
      "cell_type": "code",
      "source": [
        "beta_tilde = plot_normalite()"
      ],
      "metadata": {
        "id": "4JAdhwgOWZj3"
      },
      "execution_count": null,
      "outputs": []
    },
    {
      "cell_type": "code",
      "source": [
        "def compare_MSE(x_sample, y_sample, r0, r, M = 1000, uniform_ssp = True):\n",
        "    mse_unif = 0\n",
        "    mse_vc = 0\n",
        "    mse_mse = 0\n",
        "    for _ in range(M):\n",
        "        beta_unif = get_beta_tilde(x_sample, y_sample, r0, r, \"unif\")\n",
        "        beta_vc =  get_beta_tilde(x_sample, y_sample, r0, r, \"vc\", uniform_ssp)\n",
        "        beta_mse =  get_beta_tilde(x_sample, y_sample, r0, r, \"mse\", uniform_ssp)\n",
        "\n",
        "        mse_unif += np.linalg.norm(beta_unif - true_beta)**2\n",
        "        mse_vc += np.linalg.norm(beta_vc - true_beta)**2\n",
        "        mse_mse += np.linalg.norm(beta_mse - true_beta)**2\n",
        "\n",
        "    return mse_unif/M, mse_vc/M, mse_mse/M"
      ],
      "metadata": {
        "id": "aSr98qhcoY7a"
      },
      "execution_count": null,
      "outputs": []
    },
    {
      "cell_type": "code",
      "source": [
        "def plot_MSE_comparison(x_sample, y_sample, r0, ax, uniform_ssp = True):\n",
        "    mses_unif = []\n",
        "    mses_vc = []\n",
        "    mses_mse = []\n",
        "    Rs = np.linspace(r0, 1000, 10).astype(int)\n",
        "\n",
        "    for r in Rs:\n",
        "        mse_unif, mse_vc, mse_mse = compare_MSE(x_sample, y_sample, r0, r, uniform_ssp=uniform_ssp)\n",
        "        mses_unif.append(mse_unif)\n",
        "        mses_vc.append(mse_vc)\n",
        "        mses_mse.append(mse_mse)\n",
        "\n",
        "    ax.plot(Rs, mses_unif, label = \"unif\")\n",
        "    ax.plot(Rs, mses_vc, label = \"vc\")\n",
        "    ax.plot(Rs, mses_mse, label = \"mse\")\n",
        "    ax.set_xlabel(\"r\")\n",
        "    ax.set_ylabel(\"MSE\")\n",
        "    ax.legend();\n"
      ],
      "metadata": {
        "id": "uM0ERotEoZn8"
      },
      "execution_count": null,
      "outputs": []
    },
    {
      "cell_type": "markdown",
      "source": [
        "## Génération des données"
      ],
      "metadata": {
        "id": "xypWhkBhAROc"
      }
    },
    {
      "cell_type": "code",
      "source": [
        "d = 7\n",
        "\n",
        "true_beta = np.ones(d+1) * 0.5\n",
        "\n",
        "n = 10000"
      ],
      "metadata": {
        "id": "qP652qpTBFRK"
      },
      "execution_count": null,
      "outputs": []
    },
    {
      "cell_type": "markdown",
      "source": [
        "### Première loi sur les X"
      ],
      "metadata": {
        "id": "xK_JC-dACKIa"
      }
    },
    {
      "cell_type": "code",
      "source": [
        "x_loi_1 = stats.multivariate_normal(mean = np.zeros(d), cov = np.ones((d,d)) * 0.5 + np.eye(d)*0.5)\n",
        "x_sample_1 = np.column_stack((np.ones(n),x_loi_1.rvs(n)))\n",
        "\n",
        "x_beta_1 = (x_sample_1 * true_beta).sum(axis = 1)\n",
        "weights = np.exp(x_beta_1) / (1 + np.exp(x_beta_1))\n",
        "\n",
        "y_sample_1 = (stats.uniform.rvs(size = n) < weights).astype(int)"
      ],
      "metadata": {
        "id": "DM1ZpYdxAW56"
      },
      "execution_count": null,
      "outputs": []
    },
    {
      "cell_type": "code",
      "source": [
        "beta_tilde = plot_normalite(x_sample_1, y_sample_1)\n",
        "beta_tilde"
      ],
      "metadata": {
        "id": "6yQTslsvWoNU"
      },
      "execution_count": null,
      "outputs": []
    },
    {
      "cell_type": "markdown",
      "source": [
        "###Consistence de $\\tilde{β}$ - Premier echantillon"
      ],
      "metadata": {
        "id": "8lyCFxAZFSbC"
      }
    },
    {
      "cell_type": "code",
      "source": [
        "plot_consistency(x_sample_1, y_sample_1)\n",
        "plt.title(fr\"Consistence de l'estimateur par sous-echantillonage $\\tilde{{\\beta}}$ - 1-er echantillon - \", fontsize = 15)\n"
      ],
      "metadata": {
        "id": "NDtZOQpGOOZC",
        "colab": {
          "base_uri": "https://localhost:8080/",
          "height": 480
        },
        "outputId": "7f745c90-e278-4c43-a673-4dc05e20a606"
      },
      "execution_count": null,
      "outputs": [
        {
          "output_type": "execute_result",
          "data": {
            "text/plain": [
              "Text(0.5, 1.0, \"Consistence de l'estimateur par sous-echantillonage $\\\\tilde{\\\\beta}$ - 1-er echantillon - \")"
            ]
          },
          "metadata": {},
          "execution_count": 12
        },
        {
          "output_type": "display_data",
          "data": {
            "text/plain": [
              "<Figure size 640x480 with 1 Axes>"
            ],
            "image/png": "[encoded data removed]"
          },
          "metadata": {}
        }
      ]
    },
    {
      "cell_type": "code",
      "source": [
        "plot_MSE_comparison(x_sample_1, y_sample_1, 200)"
      ],
      "metadata": {
        "id": "rEZDoG-mofHc",
        "colab": {
          "base_uri": "https://localhost:8080/",
          "height": 449
        },
        "outputId": "f64d925f-c1ce-4abb-dfb0-437a3704d3a4"
      },
      "execution_count": null,
      "outputs": [
        {
          "output_type": "display_data",
          "data": {
            "text/plain": [
              "<Figure size 640x480 with 1 Axes>"
            ],
            "image/png": "[encoded data removed]"
          },
          "metadata": {}
        }
      ]
    },
    {
      "cell_type": "markdown",
      "source": [
        "### Deuxième loi sur les X"
      ],
      "metadata": {
        "id": "F0kg2p7OCRo6"
      }
    },
    {
      "cell_type": "code",
      "source": [
        "x_loi_2 = stats.multivariate_normal(mean = np.zeros(d) + 1.5, cov = np.ones((d,d)) * 0.5 + np.eye(d)*0.5)\n",
        "x_sample_2 = np.column_stack((np.ones(n),x_loi_2.rvs(n)))\n",
        "\n",
        "x_beta_2 = (x_sample_2 * true_beta).sum(axis = 1)\n",
        "weights = np.exp(x_beta_2) / (1 + np.exp(x_beta_2))\n",
        "\n",
        "y_sample_2 = (stats.uniform.rvs(size = n) < weights).astype(int)\n"
      ],
      "metadata": {
        "id": "1h4Wc78MBXJs"
      },
      "execution_count": null,
      "outputs": []
    },
    {
      "cell_type": "markdown",
      "source": [
        "###Consistence de $\\tilde{β}$ - Deuxième echantillon"
      ],
      "metadata": {
        "id": "nwMDtIbuJhi4"
      }
    },
    {
      "cell_type": "code",
      "source": [
        "plot_consistency(x_sample_2, y_sample_2, uniform_ssp = False)\n",
        "plt.title(fr\"Consistence de l'estimateur par sous-echantillonage $\\tilde{{\\beta}}$ - 2-ème echantillon - \", fontsize = 15);\n"
      ],
      "metadata": {
        "id": "VBcIBGkwRYfQ"
      },
      "execution_count": null,
      "outputs": []
    },
    {
      "cell_type": "code",
      "source": [
        "plot_MSE_comparison(x_sample_2, y_sample_2, 200, False)"
      ],
      "metadata": {
        "id": "PNh3K91mRYfR"
      },
      "execution_count": null,
      "outputs": []
    },
    {
      "cell_type": "markdown",
      "source": [
        "### Troisième loi sur les X"
      ],
      "metadata": {
        "id": "sbw9eicmCrXf"
      }
    },
    {
      "cell_type": "code",
      "source": [
        "cov_mat = np.outer(1/np.arange(1, d+1), 1/np.arange(1, d+1)) * 0.5 + np.diag(1/np.arange(1, d+1)**2) * 0.5\n",
        "x_loi_3 = stats.multivariate_normal(mean = np.zeros(d), cov = cov_mat)\n",
        "x_sample_3 = np.column_stack((np.ones(n),x_loi_3.rvs(n)))\n",
        "\n",
        "x_beta_3 = (x_sample_3 * true_beta).sum(axis = 1)\n",
        "weights = np.exp(x_beta_3) / (1 + np.exp(x_beta_3))\n",
        "\n",
        "y_sample_3 = (stats.uniform.rvs(size = n) < weights).astype(int)"
      ],
      "metadata": {
        "id": "7DiGmxJKCuCF"
      },
      "execution_count": null,
      "outputs": []
    },
    {
      "cell_type": "markdown",
      "source": [
        "###Consistence de $\\tilde{β}$ - Troisième echantillon"
      ],
      "metadata": {
        "id": "KSALnYY0Jq-B"
      }
    },
    {
      "cell_type": "code",
      "source": [
        "plot_consistency(x_sample_3, y_sample_3)\n",
        "plt.title(fr\"Consistence de l'estimateur par sous-echantillonage $\\tilde{{\\beta}}$ - 3-ème echantillon - \", fontsize = 15);\n"
      ],
      "metadata": {
        "id": "Se8HpXibouO-"
      },
      "execution_count": null,
      "outputs": []
    },
    {
      "cell_type": "code",
      "source": [
        "plot_MSE_comparison(x_sample_3, y_sample_3, 200)"
      ],
      "metadata": {
        "id": "CDo0iZYSowR-"
      },
      "execution_count": null,
      "outputs": []
    },
    {
      "cell_type": "markdown",
      "source": [
        "### Quatrième loi sur les X"
      ],
      "metadata": {
        "id": "Y-3BWP1IGDGq"
      }
    },
    {
      "cell_type": "code",
      "source": [
        "sample_gaus = stats.multivariate_normal(mean = np.zeros(d), cov = np.ones((d,d)) * 0.5 + np.eye(d)*0.5).rvs(n)\n",
        "sample_bernoul = stats.uniform.rvs(size = n) < 0.5\n",
        "\n",
        "x_sample_4 = np.column_stack((np.ones(n), (1 - 2 * sample_bernoul)[:,np.newaxis] + sample_gaus))\n",
        "\n",
        "x_beta_4 = (x_sample_4 * true_beta).sum(axis = 1)\n",
        "weights = np.exp(x_beta_4) / (1 + np.exp(x_beta_4))\n",
        "\n",
        "y_sample_4 = (stats.uniform.rvs(size = n) < weights).astype(int)\n"
      ],
      "metadata": {
        "id": "lT6P321oGGLc"
      },
      "execution_count": null,
      "outputs": []
    },
    {
      "cell_type": "markdown",
      "source": [
        "###Consistence de $\\tilde{β}$ - Quatrième echantillon"
      ],
      "metadata": {
        "id": "2j847cGpJruY"
      }
    },
    {
      "cell_type": "code",
      "source": [
        "plot_consistency(x_sample_4, y_sample_4)\n",
        "plt.title(fr\"Consistence de l'estimateur par sous-echantillonage $\\tilde{{\\beta}}$ - 4-ème echantillon - \", fontsize = 15);\n"
      ],
      "metadata": {
        "id": "64X-6LPoRh7K"
      },
      "execution_count": null,
      "outputs": []
    },
    {
      "cell_type": "code",
      "source": [
        "plot_MSE_comparison(x_sample_4, y_sample_4, 200)"
      ],
      "metadata": {
        "id": "I5-kqcnso4JH"
      },
      "execution_count": null,
      "outputs": []
    },
    {
      "cell_type": "markdown",
      "source": [
        "### Cinquième loi sur les X"
      ],
      "metadata": {
        "id": "_lvGj1gOIFF1"
      }
    },
    {
      "cell_type": "code",
      "source": [
        "x_loi_5 = stats.multivariate_t(loc = np.zeros(d), shape = np.ones((d,d)) * 0.5 + np.eye(d)*0.5 , df = 3)\n",
        "x_sample_5 = np.column_stack((np.ones(n),x_loi5.rvs(n)/10))\n",
        "\n",
        "x_beta_5 = (x_sample_5 * true_beta).sum(axis = 1)\n",
        "weights = np.exp(x_beta_5) / (1 + np.exp(x_beta_5))\n",
        "\n",
        "y_sample_5 = (stats.uniform.rvs(size = n) < weights).astype(int)\n"
      ],
      "metadata": {
        "id": "uGqBKn0gIEMD"
      },
      "execution_count": null,
      "outputs": []
    },
    {
      "cell_type": "markdown",
      "source": [
        "###Consistence de $\\tilde{β}$ - Cinquième echantillon"
      ],
      "metadata": {
        "id": "W3Ld8pxTJtPp"
      }
    },
    {
      "cell_type": "code",
      "source": [
        "plot_consistency(x_sample_5, y_sample_5, False)\n",
        "plt.title(fr\"Consistence de l'estimateur par sous-echantillonage $\\tilde{{\\beta}}$ - 5-ème echantillon - \", fontsize = 15);"
      ],
      "metadata": {
        "id": "EOR2_FT-Rl6X"
      },
      "execution_count": null,
      "outputs": []
    },
    {
      "cell_type": "code",
      "source": [
        "plot_MSE_comparison(x_sample_5, y_sample_5, 200, False)"
      ],
      "metadata": {
        "id": "XJnHag-Co_At"
      },
      "execution_count": null,
      "outputs": []
    },
    {
      "cell_type": "markdown",
      "source": [
        "### Sixième loi sur les X"
      ],
      "metadata": {
        "id": "_r8PKKKAJw02"
      }
    },
    {
      "cell_type": "code",
      "source": [
        "x_loi_6 = stats.expon(scale = 1/2)\n",
        "x_sample_6 = np.column_stack((np.ones(n),x_loi_6.rvs((n,d))))\n",
        "\n",
        "x_beta_6 = (x_sample_6 * true_beta).sum(axis = 1)\n",
        "weights = np.exp(x_beta_6) / (1 + np.exp(x_beta_6))\n",
        "\n",
        "y_sample_6 = (stats.uniform.rvs(size = n) < weights).astype(int)\n",
        "\n"
      ],
      "metadata": {
        "id": "jDSQV8WcJzYH"
      },
      "execution_count": null,
      "outputs": []
    },
    {
      "cell_type": "markdown",
      "source": [
        "###Consistence de $\\tilde{β}$ - Sixième echantillon"
      ],
      "metadata": {
        "id": "yCEFl2HEJt5u"
      }
    },
    {
      "cell_type": "code",
      "source": [
        "plot_consistency(x_sample_6, y_sample_6)\n",
        "plt.title(fr\"Consistence de l'estimateur par sous-echantillonage $\\tilde{{\\beta}}$ - 6-ème echantillon - \", fontsize = 15);"
      ],
      "metadata": {
        "id": "kj_NL6MARpR8"
      },
      "execution_count": null,
      "outputs": []
    },
    {
      "cell_type": "code",
      "source": [
        "plot_MSE_comparison(x_sample_6, y_sample_6, 200)"
      ],
      "metadata": {
        "id": "7SeLod4yRpR-"
      },
      "execution_count": null,
      "outputs": []
    },
    {
      "cell_type": "code",
      "source": [
        "def plot_normalite_ax(x_sample, y_sample,ax, k, uniform_ssp = True):\n",
        "    beta_tildes = []\n",
        "    r0 = 200\n",
        "    r = 8000\n",
        "    hat_beta = LogisticRegression(fit_intercept = False).fit(x_sample, y_sample).coef_[0]\n",
        "    pi = calculate_pi_vc(x_sample, y_sample, hat_beta)\n",
        "    y_F = (y_sample - F(x_sample@hat_beta))**2 / (pi*((len(x_sample)**2)*r))\n",
        "    Vc =  np.tensordot(x_sample * y_F[:, np.newaxis], x_sample, axes = (0,0))\n",
        "\n",
        "    f = F(x_sample@hat_beta)*(1-F(x_sample@hat_beta))\n",
        "    H = - np.tensordot(x_sample * f[:, np.newaxis], x_sample, axes = (0,0))*(1/len(x_sample))\n",
        "    H_1 = np.linalg.inv(H)\n",
        "    V = H_1 @ Vc @ H\n",
        "    for i in range(1000):\n",
        "        tilde_beta = get_beta_tilde(x_sample, y_sample, r0, r, \"vc\", uniform_ssp = True)\n",
        "        beta_tildes.append(tilde_beta.copy())\n",
        "    aplotter = linalg.sqrtm(H@np.linalg.inv(Vc)@H_1)@((np.array(beta_tildes) - hat_beta).T)\n",
        "    xx = np.linspace(-4,4,1000)\n",
        "    fig, axs = plt.subplots(nrows =(d+1)//3 +1*(((d+1)%3)!=0), ncols = 3, figsize = (20,8), sharex = True, sharey = True)\n",
        "    ax.set_xlim(-4,4)\n",
        "    ax.hist(aplotter[k], density=True, bins =\"auto\", label = fr\"Histogram of $\\tilde{{\\beta}}_{k}$\")\n",
        "    ax.plot(xx, stats.norm.pdf(xx), label = fr\"Density of $\\mathcal{{N}}(0,1)$\")\n",
        "    ax.legend();\n",
        "    fig.suptitle(fr\"Check for asymptotic normality of correctly rescaled $\\tilde{{\\beta}} - \\hat{{\\beta}}$\")\n",
        "\n"
      ],
      "metadata": {
        "id": "P4LnGffzWK_Y"
      },
      "execution_count": null,
      "outputs": []
    },
    {
      "cell_type": "code",
      "source": [
        "def plot_MSE_comparison_ax(x_sample, y_sample, r0, ax, uniform_ssp = True):\n",
        "    mses_unif = []\n",
        "    mses_vc = []\n",
        "    mses_mse = []\n",
        "    Rs = np.linspace(r0, 1000, 10).astype(int)\n",
        "\n",
        "    for r in Rs:\n",
        "        mse_unif, mse_vc, mse_mse = compare_MSE(x_sample, y_sample, r0, r, uniform_ssp=uniform_ssp)\n",
        "        mses_unif.append(mse_unif)\n",
        "        mses_vc.append(mse_vc)\n",
        "        mses_mse.append(mse_mse)\n",
        "\n",
        "    ax.plot(Rs, mses_unif, label = \"unif\")\n",
        "    ax.plot(Rs, mses_vc, label = \"vc\")\n",
        "    ax.plot(Rs, mses_mse, label = \"mse\")\n",
        "    ax.set_xlabel(\"r\")\n",
        "    ax.set_ylabel(\"MSE\")\n",
        "    ax.legend();"
      ],
      "metadata": {
        "id": "6Qg0lPXwWbHw"
      },
      "execution_count": null,
      "outputs": []
    },
    {
      "cell_type": "code",
      "source": [
        "def plot_consistency_ax(x_sample, y_sample, ax, uniform_ssp= True):\n",
        "    norms_unif = []\n",
        "    norms_vc = []\n",
        "    norms_mse = []\n",
        "\n",
        "    Ms = np.linspace(100, n, 100).astype(int)\n",
        "\n",
        "    for m in Ms:\n",
        "\n",
        "        r_0 = np.sqrt(m).astype(int)\n",
        "\n",
        "        r = m - r_0\n",
        "\n",
        "        hat_beta = LogisticRegression(fit_intercept = False).fit(x_sample[:m], y_sample[:m]).coef_[0]\n",
        "\n",
        "        beta = get_beta_tilde(x_sample[:m], y_sample[:m], r_0, r, \"unif\")\n",
        "        norms_unif.append(np.linalg.norm(beta - hat_beta))\n",
        "\n",
        "        beta = get_beta_tilde(x_sample[:m], y_sample[:m], r_0, r, \"vc\", uniform_ssp)\n",
        "        norms_vc.append(np.linalg.norm(beta - hat_beta))\n",
        "\n",
        "        beta = get_beta_tilde(x_sample[:m], y_sample[:m], r_0, r, \"mse\", uniform_ssp)\n",
        "        norms_mse.append(np.linalg.norm(beta - hat_beta))\n",
        "\n",
        "\n",
        "    ax.plot(Ms, norms_vc, label = fr\" $\\pi_i$ vc\")\n",
        "    ax.plot(Ms, norms_mse, label = fr\" $\\pi_i$ mse\")\n",
        "    ax.plot(Ms, norms_unif, label = fr\" $\\pi_i$ unif\")\n",
        "    ax.legend();"
      ],
      "metadata": {
        "id": "G7ttySOUWq0-"
      },
      "execution_count": null,
      "outputs": []
    },
    {
      "cell_type": "code",
      "source": [
        "fig, axs = plt.subplots(nrows = 2, ncols = 3)\n",
        "\n",
        "x_samples = [x_sample_1,x_sample_2, x_sample_3, x_sample_4, x_sample_5, x_sample_6]\n",
        "y_samples = [y_sample_1,y_sample_2, y_sample_3, y_sample_4, y_sample_5, y_sample_6]\n",
        "\n",
        "boolean = [True, False, True, True, True, False]\n",
        "\n",
        "\n",
        "for i in range(2):\n",
        "    for j in range(3):\n",
        "        plot_MSE_comparison_ax(x_samples[i*3 + j], y_samples[i*3 + j], 200, axs[i][j], uniform_ssp = boolean[i*3+j])"
      ],
      "metadata": {
        "id": "Ij-YC-4jf-qH"
      },
      "execution_count": null,
      "outputs": []
    },
    {
      "cell_type": "code",
      "source": [
        "fig, axs = plt.subplots(nrows = 2, ncols = 3)\n",
        "\n",
        "x_samples = [x_sample_1,x_sample_2, x_sample_3, x_sample_4, x_sample_5, x_sample_6]\n",
        "y_samples = [y_sample_1,y_sample_2, y_sample_3, y_sample_4, y_sample_5, y_sample_6]\n",
        "\n",
        "boolean = [True, False, True, True, True, False]\n",
        "\n",
        "for i in range(2):\n",
        "    for j in range(3):\n",
        "        plot_consistency_ax(x_samples[i*3 + j], y_samples[i*3 + j], axs[i][j], uniform_ssp = boolean[i*3+j])"
      ],
      "metadata": {
        "id": "aj6v3IWTWxXj"
      },
      "execution_count": null,
      "outputs": []
    },
    {
      "cell_type": "code",
      "source": [
        "fig, axs = plt.subplots(nrows = 2, ncols = 3)\n",
        "\n",
        "x_samples = [x_sample_1,x_sample_2, x_sample_3, x_sample_4, x_sample_5, x_sample_6]\n",
        "y_samples = [y_sample_1,y_sample_2, y_sample_3, y_sample_4, y_sample_5, y_sample_6]\n",
        "\n",
        "boolean = [True, False, True, True, True, False]\n",
        "\n",
        "for i in range(2):\n",
        "    for j in range(3):\n",
        "        plot_normalite_ax(x_samples[i*3 + j], y_samples[i*3 + j] , axs[i][j], i+j, uniform_ssp = boolean[i*3+j])"
      ],
      "metadata": {
        "id": "m6iMyUvfXCiZ"
      },
      "execution_count": null,
      "outputs": []
    }
  ]
}